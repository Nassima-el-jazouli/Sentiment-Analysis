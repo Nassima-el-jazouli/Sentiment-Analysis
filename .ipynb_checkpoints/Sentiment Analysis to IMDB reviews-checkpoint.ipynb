{
 "cells": [
  {
   "cell_type": "markdown",
   "metadata": {},
   "source": [
    "# 1- L'importation des données :\n",
    "\n",
    "Dans un premier temps on importe les bibliothèques dont on aura besoin :"
   ]
  },
  {
   "cell_type": "code",
   "execution_count": 41,
   "metadata": {},
   "outputs": [],
   "source": [
    "import pandas as pd\n",
    "import string\n",
    "import numpy as np\n",
    "#imports\n",
    "import string # from some string manipulation tasks\n",
    "import nltk # natural language toolkit\n",
    "import re # regex\n",
    "from string import punctuation # solving punctuation problems\n",
    "from nltk.corpus import stopwords # stop words in sentences\n",
    "from nltk.stem import WordNetLemmatizer # For stemming the sentence\n",
    "from nltk.stem import SnowballStemmer # For stemming the sentence\n",
    "\n",
    "#from contractions import contractions_dict # to solve contractions\n",
    "#from autocorrect import Speller #correcting the spellings\n",
    "from spellchecker import SpellChecker\n",
    "\n",
    "import matplotlib.pyplot as plt\n",
    "import seaborn as sns\n",
    "import pylab as pl \n",
    "\n",
    "from sklearn.feature_extraction.text import CountVectorizer\n",
    "from sklearn.feature_extraction.text import TfidfTransformer\n",
    "\n",
    "# Import sklearn \n",
    "from sklearn.preprocessing import LabelBinarizer\n",
    "from sklearn.model_selection import train_test_split\n",
    "from sklearn.metrics import classification_report\n",
    "from sklearn.naive_bayes import MultinomialNB\n",
    "from sklearn.preprocessing import scale\n",
    "from sklearn import datasets\n",
    "from sklearn.pipeline import Pipeline\n",
    "from sklearn import metrics\n",
    "import seaborn as sns  # Bibliothèque pour la visualisation des données"
   ]
  },
  {
   "cell_type": "markdown",
   "metadata": {},
   "source": [
    "On utilise la bibliothèque pandas pour récupérer les données à partir d'un fichier text qu'on le met soit dans le meme dossier que notre notebook ou on initialise la fonction read_table() par le chemin dont on a notre fichier.\n",
    "names : c'est pour préciser les colonnes qu'on veut : Ici on divise la data en deux colonnes : la première contient les commentaires et la deuxième contient les sentiments exprimés en 1 ou 0. Ces deux colonnes sont délimités par la touche tab."
   ]
  },
  {
   "cell_type": "code",
   "execution_count": 42,
   "metadata": {},
   "outputs": [
    {
     "data": {
      "text/html": [
       "<div>\n",
       "<style scoped>\n",
       "    .dataframe tbody tr th:only-of-type {\n",
       "        vertical-align: middle;\n",
       "    }\n",
       "\n",
       "    .dataframe tbody tr th {\n",
       "        vertical-align: top;\n",
       "    }\n",
       "\n",
       "    .dataframe thead th {\n",
       "        text-align: right;\n",
       "    }\n",
       "</style>\n",
       "<table border=\"1\" class=\"dataframe\">\n",
       "  <thead>\n",
       "    <tr style=\"text-align: right;\">\n",
       "      <th></th>\n",
       "      <th>Review</th>\n",
       "      <th>Sentiment</th>\n",
       "    </tr>\n",
       "  </thead>\n",
       "  <tbody>\n",
       "    <tr>\n",
       "      <th>0</th>\n",
       "      <td>A very, very, very slow-moving, aimless movie ...</td>\n",
       "      <td>0</td>\n",
       "    </tr>\n",
       "    <tr>\n",
       "      <th>1</th>\n",
       "      <td>Not sure who was more lost - the flat characte...</td>\n",
       "      <td>0</td>\n",
       "    </tr>\n",
       "    <tr>\n",
       "      <th>2</th>\n",
       "      <td>Attempting artiness with black &amp; white and cle...</td>\n",
       "      <td>0</td>\n",
       "    </tr>\n",
       "    <tr>\n",
       "      <th>3</th>\n",
       "      <td>Very little music or anything to speak of.</td>\n",
       "      <td>0</td>\n",
       "    </tr>\n",
       "    <tr>\n",
       "      <th>4</th>\n",
       "      <td>The best scene in the movie was when Gerardo i...</td>\n",
       "      <td>1</td>\n",
       "    </tr>\n",
       "    <tr>\n",
       "      <th>...</th>\n",
       "      <td>...</td>\n",
       "      <td>...</td>\n",
       "    </tr>\n",
       "    <tr>\n",
       "      <th>743</th>\n",
       "      <td>I just got bored watching Jessice Lange take h...</td>\n",
       "      <td>0</td>\n",
       "    </tr>\n",
       "    <tr>\n",
       "      <th>744</th>\n",
       "      <td>Unfortunately, any virtue in this film's produ...</td>\n",
       "      <td>0</td>\n",
       "    </tr>\n",
       "    <tr>\n",
       "      <th>745</th>\n",
       "      <td>In a word, it is embarrassing.</td>\n",
       "      <td>0</td>\n",
       "    </tr>\n",
       "    <tr>\n",
       "      <th>746</th>\n",
       "      <td>Exceptionally bad!</td>\n",
       "      <td>0</td>\n",
       "    </tr>\n",
       "    <tr>\n",
       "      <th>747</th>\n",
       "      <td>All in all its an insult to one's intelligence...</td>\n",
       "      <td>0</td>\n",
       "    </tr>\n",
       "  </tbody>\n",
       "</table>\n",
       "<p>748 rows × 2 columns</p>\n",
       "</div>"
      ],
      "text/plain": [
       "                                                Review  Sentiment\n",
       "0    A very, very, very slow-moving, aimless movie ...          0\n",
       "1    Not sure who was more lost - the flat characte...          0\n",
       "2    Attempting artiness with black & white and cle...          0\n",
       "3         Very little music or anything to speak of.            0\n",
       "4    The best scene in the movie was when Gerardo i...          1\n",
       "..                                                 ...        ...\n",
       "743  I just got bored watching Jessice Lange take h...          0\n",
       "744  Unfortunately, any virtue in this film's produ...          0\n",
       "745                   In a word, it is embarrassing.            0\n",
       "746                               Exceptionally bad!            0\n",
       "747  All in all its an insult to one's intelligence...          0\n",
       "\n",
       "[748 rows x 2 columns]"
      ]
     },
     "execution_count": 42,
     "metadata": {},
     "output_type": "execute_result"
    }
   ],
   "source": [
    "train_data = pd.read_table('imdb_labelled.txt',\n",
    "                  delimiter='\\t',\n",
    "                  header=None,\n",
    "                  names=['Review', 'Sentiment'])\n",
    "train_data"
   ]
  },
  {
   "cell_type": "code",
   "execution_count": 43,
   "metadata": {},
   "outputs": [
    {
     "data": {
      "text/html": [
       "<div>\n",
       "<style scoped>\n",
       "    .dataframe tbody tr th:only-of-type {\n",
       "        vertical-align: middle;\n",
       "    }\n",
       "\n",
       "    .dataframe tbody tr th {\n",
       "        vertical-align: top;\n",
       "    }\n",
       "\n",
       "    .dataframe thead th {\n",
       "        text-align: right;\n",
       "    }\n",
       "</style>\n",
       "<table border=\"1\" class=\"dataframe\">\n",
       "  <thead>\n",
       "    <tr style=\"text-align: right;\">\n",
       "      <th></th>\n",
       "      <th>Review</th>\n",
       "      <th>Sentiment</th>\n",
       "    </tr>\n",
       "  </thead>\n",
       "  <tbody>\n",
       "    <tr>\n",
       "      <th>0</th>\n",
       "      <td>A very, very, very slow-moving, aimless movie ...</td>\n",
       "      <td>0</td>\n",
       "    </tr>\n",
       "    <tr>\n",
       "      <th>1</th>\n",
       "      <td>Not sure who was more lost - the flat characte...</td>\n",
       "      <td>0</td>\n",
       "    </tr>\n",
       "    <tr>\n",
       "      <th>2</th>\n",
       "      <td>Attempting artiness with black &amp; white and cle...</td>\n",
       "      <td>0</td>\n",
       "    </tr>\n",
       "    <tr>\n",
       "      <th>3</th>\n",
       "      <td>Very little music or anything to speak of.</td>\n",
       "      <td>0</td>\n",
       "    </tr>\n",
       "    <tr>\n",
       "      <th>4</th>\n",
       "      <td>The best scene in the movie was when Gerardo i...</td>\n",
       "      <td>1</td>\n",
       "    </tr>\n",
       "  </tbody>\n",
       "</table>\n",
       "</div>"
      ],
      "text/plain": [
       "                                              Review  Sentiment\n",
       "0  A very, very, very slow-moving, aimless movie ...          0\n",
       "1  Not sure who was more lost - the flat characte...          0\n",
       "2  Attempting artiness with black & white and cle...          0\n",
       "3       Very little music or anything to speak of.            0\n",
       "4  The best scene in the movie was when Gerardo i...          1"
      ]
     },
     "execution_count": 43,
     "metadata": {},
     "output_type": "execute_result"
    }
   ],
   "source": [
    "train_data.head()"
   ]
  },
  {
   "cell_type": "markdown",
   "metadata": {},
   "source": [
    "Ce ligne de code permet de compter le nombre des commentaires évalués positifs et le nombre des commentaires évalués négatifs."
   ]
  },
  {
   "cell_type": "code",
   "execution_count": 44,
   "metadata": {},
   "outputs": [
    {
     "data": {
      "text/plain": [
       "1    386\n",
       "0    362\n",
       "Name: Sentiment, dtype: int64"
      ]
     },
     "execution_count": 44,
     "metadata": {},
     "output_type": "execute_result"
    }
   ],
   "source": [
    "train_data['Sentiment'].value_counts()"
   ]
  },
  {
   "cell_type": "code",
   "execution_count": 45,
   "metadata": {},
   "outputs": [],
   "source": [
    "train_data['Length'] = train_data['Review'].apply(len)"
   ]
  },
  {
   "cell_type": "markdown",
   "metadata": {},
   "source": [
    "Nous pouvons maintenant voir l'histogramme de la longueur de la phrase via :"
   ]
  },
  {
   "cell_type": "code",
   "execution_count": 46,
   "metadata": {},
   "outputs": [
    {
     "data": {
      "text/plain": [
       "<AxesSubplot:ylabel='Frequency'>"
      ]
     },
     "execution_count": 46,
     "metadata": {},
     "output_type": "execute_result"
    },
    {
     "data": {
      "image/png": "[encoded data removed]",
      "text/plain": [
       "<Figure size 432x288 with 1 Axes>"
      ]
     },
     "metadata": {
      "needs_background": "light"
     },
     "output_type": "display_data"
    }
   ],
   "source": [
    "train_data['Length'].plot(kind = 'hist' , bins = 50)"
   ]
  },
  {
   "cell_type": "markdown",
   "metadata": {},
   "source": [
    "Ensuite, vous tracez l'histogramme de la longueur de la phrase via chaque sentiment en :"
   ]
  },
  {
   "cell_type": "code",
   "execution_count": 47,
   "metadata": {},
   "outputs": [
    {
     "data": {
      "text/plain": [
       "Text(0.5, 0.98, 'Length via each Sentiment')"
      ]
     },
     "execution_count": 47,
     "metadata": {},
     "output_type": "execute_result"
    },
    {
     "data": {
      "image/png": "[encoded data removed]",
      "text/plain": [
       "<Figure size 1008x504 with 2 Axes>"
      ]
     },
     "metadata": {
      "needs_background": "light"
     },
     "output_type": "display_data"
    }
   ],
   "source": [
    "ax = train_data.hist(column = 'Length', by = 'Sentiment', bins = 50 , figsize = (14,7));\n",
    "pl.suptitle('Length via each Sentiment')"
   ]
  },
  {
   "cell_type": "markdown",
   "metadata": {},
   "source": [
    "La tokenisation est un moyen de diviser les chaînes en une liste de mots. Dans cet exemple, nous utiliserons le Natural Language Toolkit qui a des fonctions intégrées pour la tokenisation. Il existe 2 types de tokenisation. Le premier type nous permet de convertir la phrase entière en une liste, et l'autre type est l'endroit où nous pouvons convertir des mots séparés en jetons."
   ]
  },
  {
   "cell_type": "code",
   "execution_count": 48,
   "metadata": {},
   "outputs": [],
   "source": [
    "def sentence_tokenize(text):\n",
    "    \"\"\"\n",
    "    take string input and return a list of sentences.\n",
    "    use nltk.sent_tokenize() to split the sentences.\n",
    "    \"\"\"\n",
    "    return nltk.sent_tokenize(text)"
   ]
  },
  {
   "cell_type": "code",
   "execution_count": 49,
   "metadata": {},
   "outputs": [],
   "source": [
    "def word_tokenize(text):\n",
    "        \"\"\"\n",
    "        :param text:\n",
    "        :return: list of words\n",
    "        \"\"\"\n",
    "        return nltk.word_tokenize(text)"
   ]
  },
  {
   "cell_type": "markdown",
   "metadata": {},
   "source": [
    "Ici on teste la fonction sentence_tokenize() :"
   ]
  },
  {
   "cell_type": "code",
   "execution_count": 50,
   "metadata": {},
   "outputs": [
    {
     "data": {
      "text/plain": [
       "0      [A very, very, very slow-moving, aimless movie...\n",
       "1      [Not sure who was more lost - the flat charact...\n",
       "2      [Attempting artiness with black & white and cl...\n",
       "3           [Very little music or anything to speak of.]\n",
       "4      [The best scene in the movie was when Gerardo ...\n",
       "                             ...                        \n",
       "743    [I just got bored watching Jessice Lange take ...\n",
       "744    [Unfortunately, any virtue in this film's prod...\n",
       "745                     [In a word, it is embarrassing.]\n",
       "746                                 [Exceptionally bad!]\n",
       "747    [All in all its an insult to one's intelligenc...\n",
       "Name: Review, Length: 748, dtype: object"
      ]
     },
     "execution_count": 50,
     "metadata": {},
     "output_type": "execute_result"
    }
   ],
   "source": [
    "train_data['Review'].apply(sentence_tokenize)"
   ]
  },
  {
   "cell_type": "markdown",
   "metadata": {},
   "source": [
    "Ici on teste la fonction word_tokenize() :"
   ]
  },
  {
   "cell_type": "code",
   "execution_count": 51,
   "metadata": {},
   "outputs": [
    {
     "data": {
      "text/plain": [
       "0      [A, very, ,, very, ,, very, slow-moving, ,, ai...\n",
       "1      [Not, sure, who, was, more, lost, -, the, flat...\n",
       "2      [Attempting, artiness, with, black, &, white, ...\n",
       "3      [Very, little, music, or, anything, to, speak,...\n",
       "4      [The, best, scene, in, the, movie, was, when, ...\n",
       "                             ...                        \n",
       "743    [I, just, got, bored, watching, Jessice, Lange...\n",
       "744    [Unfortunately, ,, any, virtue, in, this, film...\n",
       "745            [In, a, word, ,, it, is, embarrassing, .]\n",
       "746                              [Exceptionally, bad, !]\n",
       "747    [All, in, all, its, an, insult, to, one, 's, i...\n",
       "Name: Review, Length: 748, dtype: object"
      ]
     },
     "execution_count": 51,
     "metadata": {},
     "output_type": "execute_result"
    }
   ],
   "source": [
    "train_data['Review'].apply(word_tokenize)"
   ]
  },
  {
   "cell_type": "markdown",
   "metadata": {},
   "source": [
    "Maintenant, l'étape suivante consiste à nous assurer que chaque lettre est en minuscules afin que le modèle fonctionne de manière équivalente :"
   ]
  },
  {
   "cell_type": "code",
   "execution_count": 52,
   "metadata": {},
   "outputs": [],
   "source": [
    "def to_lower(text):\n",
    "        \"\"\"\n",
    "        :param text:\n",
    "        :return:\n",
    "            Converted text to lower case as in, converting \"Hello\" to \"hello\" or \"HELLO\" to \"hello\".\n",
    "        \"\"\"\n",
    "        return text.lower()"
   ]
  },
  {
   "cell_type": "markdown",
   "metadata": {},
   "source": [
    "Testons la fonction to_lower() :"
   ]
  },
  {
   "cell_type": "code",
   "execution_count": 53,
   "metadata": {},
   "outputs": [
    {
     "data": {
      "text/plain": [
       "0      a very, very, very slow-moving, aimless movie ...\n",
       "1      not sure who was more lost - the flat characte...\n",
       "2      attempting artiness with black & white and cle...\n",
       "3           very little music or anything to speak of.  \n",
       "4      the best scene in the movie was when gerardo i...\n",
       "                             ...                        \n",
       "743    i just got bored watching jessice lange take h...\n",
       "744    unfortunately, any virtue in this film's produ...\n",
       "745                     in a word, it is embarrassing.  \n",
       "746                                 exceptionally bad!  \n",
       "747    all in all its an insult to one's intelligence...\n",
       "Name: Review, Length: 748, dtype: object"
      ]
     },
     "execution_count": 53,
     "metadata": {},
     "output_type": "execute_result"
    }
   ],
   "source": [
    "train_data['Review'].apply(to_lower)"
   ]
  },
  {
   "cell_type": "markdown",
   "metadata": {},
   "source": [
    "La prochaine chose que nous devons faire est de supprimer les numéros. La principale raison de la suppression des nombres est que les nombres ne contiennent généralement pas beaucoup d'informations :"
   ]
  },
  {
   "cell_type": "code",
   "execution_count": 54,
   "metadata": {},
   "outputs": [],
   "source": [
    "def remove_numbers(text):\n",
    "        \"\"\"\n",
    "        take string input and return a clean text without numbers.\n",
    "        Use regex to discard the numbers.\n",
    "        \"\"\"\n",
    "        output = ''.join(c for c in text if not c.isdigit())\n",
    "        return output "
   ]
  },
  {
   "cell_type": "markdown",
   "metadata": {},
   "source": [
    "maintenant on teste si la fonction remove_numbers() marche très bien :"
   ]
  },
  {
   "cell_type": "code",
   "execution_count": 55,
   "metadata": {},
   "outputs": [
    {
     "data": {
      "text/plain": [
       "0     a\n",
       "1    be\n",
       "2     a\n",
       "dtype: object"
      ]
     },
     "execution_count": 55,
     "metadata": {},
     "output_type": "execute_result"
    }
   ],
   "source": [
    "z = pd.Series(['a1', 'b2e', 'a3'])\n",
    "z.apply(remove_numbers) "
   ]
  },
  {
   "cell_type": "markdown",
   "metadata": {},
   "source": [
    "Une autre chose importante est de supprimer la ponctuation, car elle n'a souvent aucun sens pour l'analyse des sentiments."
   ]
  },
  {
   "cell_type": "code",
   "execution_count": 56,
   "metadata": {},
   "outputs": [],
   "source": [
    "def remove_punct(text):\n",
    "  \n",
    "        return ''.join(c for c in text if c not in punctuation)"
   ]
  },
  {
   "cell_type": "markdown",
   "metadata": {},
   "source": [
    "La prochaine étape du nettoyage de l'ensemble de données consiste à supprimer les mots vides. Les mots vides sont ces mots non pertinents, qui n'ont pas beaucoup de sens et n'aident pas beaucoup dans l'analyse des sentiments."
   ]
  },
  {
   "cell_type": "code",
   "execution_count": 57,
   "metadata": {},
   "outputs": [],
   "source": [
    "def remove_stopwords(sentence):\n",
    "        \"\"\"\n",
    "        removes all the stop words like \"is,the,a, etc.\"\n",
    "        \"\"\"\n",
    "        stop_words = stopwords.words('english')\n",
    "        return ' '.join([w for w in nltk.word_tokenize(sentence) if not w in stop_words])"
   ]
  },
  {
   "cell_type": "markdown",
   "metadata": {},
   "source": [
    "Testons la fonction remove_stopwords :"
   ]
  },
  {
   "cell_type": "code",
   "execution_count": 58,
   "metadata": {},
   "outputs": [
    {
     "name": "stdout",
     "output_type": "stream",
     "text": [
      "9     Loved the casting of Jimmy Buffet as the scien...\n",
      "10                 And those baby owls were adorable.  \n",
      "Name: Review, dtype: object\n"
     ]
    },
    {
     "data": {
      "text/plain": [
       "9     Loved casting Jimmy Buffet science teacher .\n",
       "10                        And baby owls adorable .\n",
       "Name: Review, dtype: object"
      ]
     },
     "execution_count": 58,
     "metadata": {},
     "output_type": "execute_result"
    }
   ],
   "source": [
    "print(train_data['Review'][9:11])\n",
    "train_data['Review'][9:11].apply(remove_stopwords) "
   ]
  },
  {
   "cell_type": "markdown",
   "metadata": {},
   "source": [
    "# 2- Le nettoyage des données :"
   ]
  },
  {
   "cell_type": "markdown",
   "metadata": {},
   "source": [
    "La fonction preprocess() qui contient toutes les fontions qu'on a définit en haut est la suivante :"
   ]
  },
  {
   "cell_type": "code",
   "execution_count": 59,
   "metadata": {},
   "outputs": [],
   "source": [
    "def preprocess(text):\n",
    "        lower_text = to_lower(text)\n",
    "        sentence_tokens = sentence_tokenize(lower_text)\n",
    "        word_list = []\n",
    "        for each_sent in sentence_tokens:\n",
    "            clean_text = remove_numbers(each_sent)\n",
    "            clean_text1 = remove_punct(clean_text)\n",
    "            clean_text2 = remove_stopwords(clean_text1)\n",
    "            word_tokens = word_tokenize(clean_text2)\n",
    "            for i in word_tokens:\n",
    "                word_list.append(i)\n",
    "        return word_list"
   ]
  },
  {
   "cell_type": "code",
   "execution_count": 60,
   "metadata": {},
   "outputs": [
    {
     "name": "stdout",
     "output_type": "stream",
     "text": [
      "0    A very, very, very slow-moving, aimless movie ...\n",
      "1    Not sure who was more lost - the flat characte...\n",
      "2    Attempting artiness with black & white and cle...\n",
      "3         Very little music or anything to speak of.  \n",
      "4    The best scene in the movie was when Gerardo i...\n",
      "Name: Review, dtype: object\n"
     ]
    },
    {
     "data": {
      "text/plain": [
       "0    [slowmoving, aimless, movie, distressed, drift...\n",
       "1    [sure, lost, flat, characters, audience, nearl...\n",
       "2    [attempting, artiness, black, white, clever, c...\n",
       "3                     [little, music, anything, speak]\n",
       "4    [best, scene, movie, gerardo, trying, find, so...\n",
       "Name: Review, dtype: object"
      ]
     },
     "execution_count": 60,
     "metadata": {},
     "output_type": "execute_result"
    }
   ],
   "source": [
    "sample_data = train_data['Review'].head(5)\n",
    "print(sample_data)\n",
    "sample_data.apply(preprocess)"
   ]
  },
  {
   "cell_type": "markdown",
   "metadata": {},
   "source": []
  },
  {
   "cell_type": "markdown",
   "metadata": {},
   "source": [
    "# 3- Séparation des données :\n",
    "\n",
    "Notre but est séparer les données et de stocker ceux qui sont positifs dans un tableau des positifs tokens, et ceux qui sont négatifs dans un tableau des négatifs tokens :"
   ]
  },
  {
   "cell_type": "code",
   "execution_count": 61,
   "metadata": {},
   "outputs": [],
   "source": [
    "ps=nltk.stem.porter.PorterStemmer()\n",
    "\n",
    "revs = train_data['Review'].copy() #liste des phrases\n",
    "senti= train_data['Sentiment'].copy() #liste des sentiments\n",
    "\n",
    "i=0\n",
    "positiveTokens= [] # tokens du review  positif\n",
    "negativeTokens= [] # tokens du review  negatif\n",
    "\n",
    "\n",
    "#separerles  positifs et negatifs tokens\n",
    "for rev in revs:    \n",
    "    if senti[i]==0:\n",
    "        negativeTokens.append(preprocess(rev)) #tableau de negatif tokens\n",
    "    else:\n",
    "        positiveTokens.append(preprocess(rev)) #tableau de positif tokens\n",
    "    i+=1\n",
    "\n",
    "positiveTokens=(np.concatenate((positiveTokens), axis=0)) #  list de tout les positifs tokens\n",
    "negativeTokens=(np.concatenate((negativeTokens), axis=0)) # list de tout les negatifs tokens"
   ]
  },
  {
   "cell_type": "markdown",
   "metadata": {},
   "source": [
    "Notre objectif ici est de calculer la fréquence d'un mot pour bien déterminer est-ce qu'il est positif ou négatif :"
   ]
  },
  {
   "cell_type": "code",
   "execution_count": 62,
   "metadata": {},
   "outputs": [
    {
     "data": {
      "text/html": [
       "<div>\n",
       "<style scoped>\n",
       "    .dataframe tbody tr th:only-of-type {\n",
       "        vertical-align: middle;\n",
       "    }\n",
       "\n",
       "    .dataframe tbody tr th {\n",
       "        vertical-align: top;\n",
       "    }\n",
       "\n",
       "    .dataframe thead th {\n",
       "        text-align: right;\n",
       "    }\n",
       "</style>\n",
       "<table border=\"1\" class=\"dataframe\">\n",
       "  <thead>\n",
       "    <tr style=\"text-align: right;\">\n",
       "      <th></th>\n",
       "      <th>word</th>\n",
       "      <th>positive Freq</th>\n",
       "      <th>negative Freq</th>\n",
       "    </tr>\n",
       "  </thead>\n",
       "  <tbody>\n",
       "    <tr>\n",
       "      <th>0</th>\n",
       "      <td>meaning</td>\n",
       "      <td>1</td>\n",
       "      <td>2</td>\n",
       "    </tr>\n",
       "    <tr>\n",
       "      <th>1</th>\n",
       "      <td>artless</td>\n",
       "      <td>0</td>\n",
       "      <td>1</td>\n",
       "    </tr>\n",
       "    <tr>\n",
       "      <th>2</th>\n",
       "      <td>rpg</td>\n",
       "      <td>0</td>\n",
       "      <td>1</td>\n",
       "    </tr>\n",
       "    <tr>\n",
       "      <th>3</th>\n",
       "      <td>jealousy</td>\n",
       "      <td>1</td>\n",
       "      <td>0</td>\n",
       "    </tr>\n",
       "    <tr>\n",
       "      <th>4</th>\n",
       "      <td>bakery</td>\n",
       "      <td>0</td>\n",
       "      <td>1</td>\n",
       "    </tr>\n",
       "  </tbody>\n",
       "</table>\n",
       "</div>"
      ],
      "text/plain": [
       "       word  positive Freq  negative Freq\n",
       "0   meaning              1              2\n",
       "1   artless              0              1\n",
       "2       rpg              0              1\n",
       "3  jealousy              1              0\n",
       "4    bakery              0              1"
      ]
     },
     "execution_count": 62,
     "metadata": {},
     "output_type": "execute_result"
    }
   ],
   "source": [
    "WordFreq=[]\n",
    "\n",
    "#calculater frequence d'un mot (Number of occurences of a word in Tokens)\n",
    "def wordFrequency(word,array): \n",
    "    wordFreq=np.count_nonzero(array==word)\n",
    "    return wordFreq\n",
    "\n",
    "#--------------------- VISUALISATION-------------------------\n",
    "#create dataframe of [word,posFreq,negFreq]\n",
    "for word in list(set(np.concatenate((positiveTokens,negativeTokens), axis=0))):\n",
    "    WordFreq.append([word,wordFrequency(word,positiveTokens),wordFrequency(word,negativeTokens)]) #[word,posFreq,negFreq]\n",
    "wordFreqDF = pd.DataFrame(WordFreq, columns=['word','positive Freq', 'negative Freq'])\n",
    "wordFreqDF.head()\n",
    "#---------------------------------------------------------------"
   ]
  },
  {
   "cell_type": "markdown",
   "metadata": {},
   "source": [
    "# 4- Covertir les lignes en vecteurs [PosF, NegF] :\n",
    "\n",
    "Le but ici est de convertir nos lignes ou nos commentaires sous forme des vecteurs qui précisent par la suite si ces commentaires sont positifs ou négatifs à partier de la comparaison entre la fréquence des mots positifs et négatifs dans ce commentaire :"
   ]
  },
  {
   "cell_type": "code",
   "execution_count": 63,
   "metadata": {},
   "outputs": [
    {
     "data": {
      "text/html": [
       "<div>\n",
       "<style scoped>\n",
       "    .dataframe tbody tr th:only-of-type {\n",
       "        vertical-align: middle;\n",
       "    }\n",
       "\n",
       "    .dataframe tbody tr th {\n",
       "        vertical-align: top;\n",
       "    }\n",
       "\n",
       "    .dataframe thead th {\n",
       "        text-align: right;\n",
       "    }\n",
       "</style>\n",
       "<table border=\"1\" class=\"dataframe\">\n",
       "  <thead>\n",
       "    <tr style=\"text-align: right;\">\n",
       "      <th></th>\n",
       "      <th>review</th>\n",
       "      <th>PosF</th>\n",
       "      <th>NegF</th>\n",
       "      <th>sentiment</th>\n",
       "    </tr>\n",
       "  </thead>\n",
       "  <tbody>\n",
       "    <tr>\n",
       "      <th>0</th>\n",
       "      <td>A very, very, very slow-moving, aimless movie ...</td>\n",
       "      <td>94</td>\n",
       "      <td>104</td>\n",
       "      <td>0</td>\n",
       "    </tr>\n",
       "    <tr>\n",
       "      <th>1</th>\n",
       "      <td>Not sure who was more lost - the flat characte...</td>\n",
       "      <td>25</td>\n",
       "      <td>34</td>\n",
       "      <td>0</td>\n",
       "    </tr>\n",
       "    <tr>\n",
       "      <th>2</th>\n",
       "      <td>Attempting artiness with black &amp; white and cle...</td>\n",
       "      <td>140</td>\n",
       "      <td>214</td>\n",
       "      <td>0</td>\n",
       "    </tr>\n",
       "    <tr>\n",
       "      <th>3</th>\n",
       "      <td>Very little music or anything to speak of.</td>\n",
       "      <td>16</td>\n",
       "      <td>24</td>\n",
       "      <td>0</td>\n",
       "    </tr>\n",
       "    <tr>\n",
       "      <th>4</th>\n",
       "      <td>The best scene in the movie was when Gerardo i...</td>\n",
       "      <td>123</td>\n",
       "      <td>118</td>\n",
       "      <td>1</td>\n",
       "    </tr>\n",
       "    <tr>\n",
       "      <th>...</th>\n",
       "      <td>...</td>\n",
       "      <td>...</td>\n",
       "      <td>...</td>\n",
       "      <td>...</td>\n",
       "    </tr>\n",
       "    <tr>\n",
       "      <th>95</th>\n",
       "      <td>Worst hour and a half of my life!Oh my gosh!</td>\n",
       "      <td>3</td>\n",
       "      <td>21</td>\n",
       "      <td>0</td>\n",
       "    </tr>\n",
       "    <tr>\n",
       "      <th>96</th>\n",
       "      <td>I had to walk out of the theatre for a few min...</td>\n",
       "      <td>7</td>\n",
       "      <td>18</td>\n",
       "      <td>0</td>\n",
       "    </tr>\n",
       "    <tr>\n",
       "      <th>97</th>\n",
       "      <td>I hate movies like that.</td>\n",
       "      <td>40</td>\n",
       "      <td>39</td>\n",
       "      <td>0</td>\n",
       "    </tr>\n",
       "    <tr>\n",
       "      <th>98</th>\n",
       "      <td>Yeah, the movie pretty much sucked.</td>\n",
       "      <td>95</td>\n",
       "      <td>123</td>\n",
       "      <td>0</td>\n",
       "    </tr>\n",
       "    <tr>\n",
       "      <th>99</th>\n",
       "      <td>THERE IS NO PLOT OR STORYLINE!!</td>\n",
       "      <td>5</td>\n",
       "      <td>26</td>\n",
       "      <td>0</td>\n",
       "    </tr>\n",
       "  </tbody>\n",
       "</table>\n",
       "<p>100 rows × 4 columns</p>\n",
       "</div>"
      ],
      "text/plain": [
       "                                               review  PosF  NegF  sentiment\n",
       "0   A very, very, very slow-moving, aimless movie ...    94   104          0\n",
       "1   Not sure who was more lost - the flat characte...    25    34          0\n",
       "2   Attempting artiness with black & white and cle...   140   214          0\n",
       "3        Very little music or anything to speak of.      16    24          0\n",
       "4   The best scene in the movie was when Gerardo i...   123   118          1\n",
       "..                                                ...   ...   ...        ...\n",
       "95     Worst hour and a half of my life!Oh my gosh!       3    21          0\n",
       "96  I had to walk out of the theatre for a few min...     7    18          0\n",
       "97                         I hate movies like that.      40    39          0\n",
       "98              Yeah, the movie pretty much sucked.      95   123          0\n",
       "99                  THERE IS NO PLOT OR STORYLINE!!       5    26          0\n",
       "\n",
       "[100 rows x 4 columns]"
      ]
     },
     "execution_count": 63,
     "metadata": {},
     "output_type": "execute_result"
    }
   ],
   "source": [
    "DataSet=[]\n",
    "  \n",
    "#calculate row of dataset [review,PosF,NegF,sentiment]\n",
    "def phraseFreq(phrase,sentiment):  \n",
    "    Posfreq=0\n",
    "    Negfreq=0\n",
    "    for word in preprocess(phrase):\n",
    "        Posfreq+=wordFrequency(word,positiveTokens) #la somme des frequences positifs\n",
    "        Negfreq+=wordFrequency(word,negativeTokens) #la somme des frequences negatifs\n",
    "\n",
    "    return [phrase,Posfreq,Negfreq,sentiment]\n",
    "\n",
    "\n",
    "#convert review(input) to vector(PosF,NegF)\n",
    "def review2vec(review):\n",
    "    Posfreq=0\n",
    "    Negfreq=0\n",
    "    for word in preprocess(phrase):\n",
    "        Posfreq+=wordFrequency(word,positiveTokens)\n",
    "        Negfreq+=wordFrequency(word,negativeTokens)\n",
    "    return [Posfreq,Negfreq]\n",
    "\n",
    "\n",
    "def createDataSet():\n",
    "    i=0\n",
    "    for rev in revs:\n",
    "        DataSet.append(phraseFreq(rev,senti[i]))\n",
    "        i+=1\n",
    "\n",
    "createDataSet()\n",
    "\n",
    "DataSet=pd.DataFrame(DataSet, columns=['review','PosF', 'NegF','sentiment'])\n",
    "DataSet.head(100) \n"
   ]
  },
  {
   "cell_type": "code",
   "execution_count": 64,
   "metadata": {},
   "outputs": [
    {
     "name": "stdout",
     "output_type": "stream",
     "text": [
      "[ 94. 104.] 0\n"
     ]
    }
   ],
   "source": [
    "# Données + classes cibles\n",
    "data   = np.array(DataSet.values[:,1:3], dtype=np.float32)\n",
    "target = DataSet.values[:,-1]\n",
    "print(data[0],target[0])"
   ]
  },
  {
   "cell_type": "markdown",
   "metadata": {},
   "source": [
    "# 5- Division des données :\n",
    "\n",
    "La division des données en données d'entrainement et données de test, les données de test représentent 10 des données dans notre cas :"
   ]
  },
  {
   "cell_type": "code",
   "execution_count": 65,
   "metadata": {},
   "outputs": [
    {
     "data": {
      "text/plain": [
       "75"
      ]
     },
     "execution_count": 65,
     "metadata": {},
     "output_type": "execute_result"
    }
   ],
   "source": [
    "#Partition aléatoire de l’échantillon\n",
    "# 10%=100 exemples pour le test\n",
    "(trainX, testX, trainY, testY) = train_test_split(data, target, test_size=0.1)\n",
    "\n",
    "len(testY)"
   ]
  },
  {
   "cell_type": "markdown",
   "metadata": {},
   "source": [
    "La transformation des étiquettes ou des sentiments en des vecteurs binaires :"
   ]
  },
  {
   "cell_type": "code",
   "execution_count": 66,
   "metadata": {},
   "outputs": [
    {
     "data": {
      "text/plain": [
       "array([[1, 0],\n",
       "       [0, 1],\n",
       "       [0, 1],\n",
       "       ...,\n",
       "       [1, 0],\n",
       "       [0, 1],\n",
       "       [1, 0]])"
      ]
     },
     "execution_count": 66,
     "metadata": {},
     "output_type": "execute_result"
    }
   ],
   "source": [
    "# Transformer l'étiquette(sentiments) en un vecteur binaire : 3 --> (0,0,0,1,0,0,0,0,0,0)\n",
    "trainYC = np.array(list(map(lambda x: [1,0] if x == 1 else [0,1], trainY)))\n",
    "testYC = np.array(list(map(lambda x: [1,0] if x == 1 else [0,1], testY)))\n",
    "\n",
    "\n",
    "trainYC\n",
    "\n",
    "# review => network => [0.82,0.18]"
   ]
  },
  {
   "cell_type": "markdown",
   "metadata": {},
   "source": [
    "# 6- Les réseaux neurones multicouches (PMC) :\n",
    "\n",
    "Là notre classe principale qui implémente l'algorithme des réseaux neurones multicouches et qui définit plusieurs méthodes, parmi eux : __init__() : fonction d'initialisation, sigmoid() et dsigmoid() qui concerne la fonction d'activation d'un neurone, forward_pass() pour le Calcul et la mémorisation de l'état de tous les neurones du réseau, predict pour le calcul de la sortie du réseau associée à une entrée X (les états des autres neurones ne sont pas mémorisés), quadratic_loss() pour le calcul de l'erreur quadratique moyenne, compute_gradient() pour le Calcul des gradients locaux, update_with_bloc() pour la Mise à jour par rapport à l'erreur moyenne (relative à un bloc d'exemples), et fit() pour l'apprentissage."
   ]
  },
  {
   "cell_type": "code",
   "execution_count": 67,
   "metadata": {},
   "outputs": [],
   "source": [
    "class MultiLayerPerceptron:\n",
    "    \n",
    "    def __init__(self, arch , alpha = 0.1):\n",
    "        # poids + biais\n",
    "        self.W = {}\n",
    "        self.B = {}\n",
    "        \n",
    "        # Taux d'adaptation\n",
    "        self.alpha = alpha\n",
    "        \n",
    "        # Architecture :nbre de couches et nombre de neurones par couche\n",
    "        self.arch = arch\n",
    "        \n",
    "        # Initialisation des poids: valeurs issues d'une distribution normale\n",
    "        for i in np.arange(1,len(self.arch)):  \n",
    "            # Poids\n",
    "            w = np.random.randn(self.arch[i], self.arch[i-1])\n",
    "            self.W[i] = w/np.sqrt(self.arch[i])\n",
    "            # Bias\n",
    "            b = np.random.randn(self.arch[i],1)\n",
    "            self.B[i] = b/np.sqrt(self.arch[i])            \n",
    "            \n",
    "            \n",
    "    def sigmoid(self, x):\n",
    "        return 1.0/(1 + np.exp(-x))\n",
    "    \n",
    "    \n",
    "    def dsigmoid(self, x): # x correspond ici à sigmoid(uj(t)), voir le cours\n",
    "        return x * (1 - x)\n",
    "    \n",
    "    \n",
    "    #Calcul et mémorisation de l'état de tous les neurones du réseau \n",
    "    def forward_pass(self, x):\n",
    "        a = np.atleast_2d(x).T\n",
    "        \n",
    "        stats = {}\n",
    "        stats[0] = a\n",
    "        for layer in np.arange(1, len(self.arch)):\n",
    "            a = self.sigmoid(np.dot(self.W[layer], a) + self.B[layer])\n",
    "            stats[layer] = a\n",
    "        return stats    \n",
    "    \n",
    "    \n",
    "    #Sortie du réseau associée à une entrée X (les états des autres neurones ne sont pas mémorisés)\n",
    "    def predict(self, X):\n",
    "        a = np.atleast_2d(X).T\n",
    "        for layer in np.arange(1, len(self.arch)):\n",
    "            a = self.sigmoid(np.dot(self.W[layer], a) + self.B[layer])\n",
    "        return a\n",
    "    \n",
    "    \n",
    "    #Calcul de l'erreur quadratique moyenne\n",
    "    def quadratic_loss(self, X, Y):\n",
    "        Y = np.atleast_2d(Y).T\n",
    "        predictions = self.predict(X)\n",
    "        n = X.shape[0]\n",
    "        loss = (1/n) * 0.5 * np.sum((predictions - Y) ** 2) \n",
    "        return loss \n",
    "    \n",
    "    \n",
    "    #Calcul des gradients locaux \n",
    "    def compute_gradient(self, x, y):\n",
    "     \n",
    "        L = len(self.arch) - 1 # indice de la couche de sortie \n",
    "        # Gradients\n",
    "        Gw = {}\n",
    "        Gb = {}\n",
    "        A = self.forward_pass(x)\n",
    "        # Les vecteurs delta  \n",
    "        D = {}\n",
    "        y = np.atleast_2d(y).T\n",
    "        deltaL = (A[L] - y) * self.dsigmoid(A[L])\n",
    "        D[L] = deltaL # Pour la sortie \n",
    "        \n",
    "        # Calculer les vecteurs delta des autres couches en utilisants les vecteurs delta de la couche suivante\n",
    "        for l in np.arange(L-1, 0, -1):\n",
    "            D[l] = (self.W[l+1].T.dot(D[l+1])) * self.dsigmoid(A[l])\n",
    "        \n",
    "        for l in np.arange(L, 0, -1):\n",
    "            Gb[l] = D[l]\n",
    "            Gw[l] = D[l].dot(A[l-1].T)        \n",
    "       \n",
    "        return (Gw, Gb)\n",
    "    \n",
    "    \n",
    "    # Mise à jour par rapport à l'erreur moyenne (relative à un bloc d'exemples)\n",
    "    def update_with_bloc(self, bloc):\n",
    "      \n",
    "        m = len(bloc)\n",
    "        # Gradients locaux\n",
    "        GCw = {}\n",
    "        GCb = {}\n",
    "        # Initialiser à zeros \n",
    "        for i in np.arange(1,len(self.arch)):\n",
    "            GCw[i] = np.zeros(self.W[i].shape)\n",
    "            GCb[i] = np.zeros(self.B[i].shape)\n",
    "            \n",
    "        # Calcul des gradients\n",
    "        for x, y in bloc:\n",
    "            Gw, Gb = self.compute_gradient(x, y)\n",
    "            for i in np.arange(1,len(self.arch)): \n",
    "                GCw[i] += Gw[i]\n",
    "                GCb[i] += Gb[i]\n",
    "                \n",
    "        # Mettre à jour les poids \n",
    "        for l in np.arange(1,len(self.arch)):\n",
    "            self.W[l] = self.W[l] - (self.alpha/m)*(GCw[l])\n",
    "            self.B[l] = self.B[l] - (self.alpha/m)*(GCb[l])\n",
    "    \n",
    "    \n",
    "    # Iteration: entrainement en utilisant tous les exemples, un bloc de taille bloc_size chaque fois\n",
    "    def train(self, D, bloc_size):\n",
    "        train_size = len(D)\n",
    "        np.random.shuffle(D) # tirage au sort\n",
    "        \n",
    "        # Bloc d'exemples\n",
    "        blocs = [D[k : k + bloc_size] for k in range(0, train_size, bloc_size)]\n",
    "        \n",
    "        for bloc in blocs: # Mise à jour suite au passage de chaque bloc\n",
    "            self.update_with_bloc(bloc)\n",
    "  \n",
    "\n",
    "    # Apprentissage\n",
    "    def fit(self, X, Y, bloc_size = 20, iterations = 10000, error_min = 0.001, displayPeriod = 5000):\n",
    "     \n",
    "        # Exemples avec X et Y Assemblés\n",
    "        D = list(zip(X,Y))\n",
    "        \n",
    "        # Erreurs\n",
    "        errors = [self.quadratic_loss(X,Y)]   # Erreur initiale    \n",
    "        \n",
    "        iter = 0\n",
    "        print(\"Itération: {}-{}, Erreur: {:.6f}\".format(iter, iterations,errors[iter]))\n",
    "        while iter < iterations and errors[iter] > error_min: # Tour de boucle \n",
    "            \n",
    "            self.train(D, bloc_size)  # Mettre à jour \n",
    "            errors.append(self.quadratic_loss(X,Y))         # Nouvelle erreur\n",
    "          \n",
    "            if (iter+1) % displayPeriod == 0:\n",
    "                print(\"Itération: {}-{}, Error: {:.6f}\".format(iter + 1, iterations,errors[iter]))\n",
    "            iter += 1\n",
    "        \n",
    "        if errors[iter] < error_min: # Erreur inférieur à la valeur minimale\n",
    "            print(\"Fin: erreur minimale atteinte : {:.6f}.\", errors[iter])\n",
    "        elif iter == iterations:\n",
    "            print(\"Fin: nombre maximum d'itérations atteint.\")\n",
    "       \n",
    "        return (errors, iter)"
   ]
  },
  {
   "cell_type": "markdown",
   "metadata": {},
   "source": [
    "Ici on entraine notre modèle à travers l'initialisation et l'apprentissage :"
   ]
  },
  {
   "cell_type": "code",
   "execution_count": 68,
   "metadata": {},
   "outputs": [
    {
     "name": "stderr",
     "output_type": "stream",
     "text": [
      "C:\\Users\\nessm\\AppData\\Local\\Temp/ipykernel_13800/1717125781.py:25: RuntimeWarning: overflow encountered in exp\n",
      "  return 1.0/(1 + np.exp(-x))\n"
     ]
    },
    {
     "name": "stdout",
     "output_type": "stream",
     "text": [
      "Itération: 0-500, Erreur: 0.301148\n",
      "Itération: 20-500, Error: 0.114453\n",
      "Itération: 40-500, Error: 0.127220\n",
      "Itération: 60-500, Error: 0.126362\n",
      "Itération: 80-500, Error: 0.119776\n",
      "Itération: 100-500, Error: 0.104387\n",
      "Itération: 120-500, Error: 0.117441\n",
      "Itération: 140-500, Error: 0.125834\n",
      "Itération: 160-500, Error: 0.098903\n",
      "Itération: 180-500, Error: 0.115985\n",
      "Itération: 200-500, Error: 0.105444\n",
      "Itération: 220-500, Error: 0.102406\n",
      "Itération: 240-500, Error: 0.109162\n",
      "Itération: 260-500, Error: 0.104526\n",
      "Itération: 280-500, Error: 0.113659\n",
      "Itération: 300-500, Error: 0.109934\n",
      "Itération: 320-500, Error: 0.109928\n",
      "Itération: 340-500, Error: 0.105818\n",
      "Itération: 360-500, Error: 0.108382\n",
      "Itération: 380-500, Error: 0.112309\n",
      "Itération: 400-500, Error: 0.110223\n",
      "Itération: 420-500, Error: 0.102715\n",
      "Itération: 440-500, Error: 0.101255\n",
      "Itération: 460-500, Error: 0.118401\n",
      "Itération: 480-500, Error: 0.110003\n",
      "Itération: 500-500, Error: 0.100959\n",
      "Fin: nombre maximum d'itérations atteint.\n"
     ]
    }
   ],
   "source": [
    "# Initialisation et apprentissage\n",
    "# trainX.shape[1]\n",
    "# testY\n",
    "pmc = MultiLayerPerceptron(arch=[trainX.shape[1],15,15,2], alpha=0.1)\n",
    "(errs, iter_fin) = pmc.fit(trainX, trainYC, iterations=500, bloc_size=5, error_min=0.00001, displayPeriod=20)"
   ]
  },
  {
   "cell_type": "markdown",
   "metadata": {},
   "source": [
    "Ici on teste notre modèle :"
   ]
  },
  {
   "cell_type": "code",
   "execution_count": 69,
   "metadata": {},
   "outputs": [
    {
     "name": "stdout",
     "output_type": "stream",
     "text": [
      "[95. 75.]\n",
      "1\n",
      "Sortie prédite : \n",
      "[[0.91744561]\n",
      " [0.09266412]])\n"
     ]
    },
    {
     "name": "stderr",
     "output_type": "stream",
     "text": [
      "C:\\Users\\nessm\\AppData\\Local\\Temp/ipykernel_13800/1717125781.py:25: RuntimeWarning: overflow encountered in exp\n",
      "  return 1.0/(1 + np.exp(-x))\n"
     ]
    }
   ],
   "source": [
    "# Test pour un exemple \n",
    "# data.shape[0]\n",
    "randIndex = np.random.randint(0,data.shape[0]-1,1)[0]\n",
    "# print('Exemple : '+str(randIndex)+', classe réelle : '+str(target[randIndex]))\n",
    "print(testX[7])\n",
    "print(testY[7])\n",
    "# # print(data[randIndex])\n",
    "print('Sortie prédite : \\n'+str(pmc.predict(testX[7]))+')' )\n",
    "# testY"
   ]
  },
  {
   "cell_type": "markdown",
   "metadata": {},
   "source": [
    "On effectue une comparaison entre la sortie calculée et la sortie réelle :"
   ]
  },
  {
   "cell_type": "code",
   "execution_count": 70,
   "metadata": {},
   "outputs": [
    {
     "name": "stdout",
     "output_type": "stream",
     "text": [
      "['0', '0', '0', '1', '0', '1', '0', '1', '1', '0', '0', '0', '1', '1', '0', '0', '0', '1', '0', '0', '0', '1', '1', '0', '0', '0', '0', '0', '1', '0', '1', '1', '1', '1', '0', '1', '0', '0', '1', '1', '0', '0', '1', '1', '0', '1', '0', '0', '1', '1', '0', '1', '0', '0', '1', '1', '0', '1', '0', '1', '0', '1', '1', '1', '1', '1', '1', '1', '0', '0', '1', '0', '0', '1', '1']\n"
     ]
    },
    {
     "name": "stderr",
     "output_type": "stream",
     "text": [
      "C:\\Users\\nessm\\AppData\\Local\\Temp/ipykernel_13800/1717125781.py:25: RuntimeWarning: overflow encountered in exp\n",
      "  return 1.0/(1 + np.exp(-x))\n"
     ]
    }
   ],
   "source": [
    "targetTestR = ['']*(np.array(testY).shape[0])\n",
    "\n",
    "# targetTestR\n",
    "for index in range(testX.shape[0]):     \n",
    "    o = np.round(pmc.predict(testX[index]),0)[:,0].astype(int)\n",
    "    if((o==np.array([1,0])).all()):\n",
    "        targetTestR[index] = 1\n",
    "    elif((o==np.array([0,1])).all()):\n",
    "        targetTestR[index] = 0\n",
    "\n",
    "        \n",
    "# Sortie calculée et sortie réelle pour la base de test      \n",
    "targetTestRF=list(map(lambda x: '1' if x == 1 else '0', targetTestR))\n",
    "# print(targetTestR)\n",
    "testYF=list(map(lambda x: '1' if x == 1 else '0', testY))\n",
    "print(testYF)"
   ]
  },
  {
   "cell_type": "markdown",
   "metadata": {},
   "source": [
    "Et pour terminer notre travail, on mesure la performance à travers le calcul du taux de classification correcte :"
   ]
  },
  {
   "cell_type": "code",
   "execution_count": 71,
   "metadata": {},
   "outputs": [
    {
     "data": {
      "text/plain": [
       "0.8933333333333333"
      ]
     },
     "execution_count": 71,
     "metadata": {},
     "output_type": "execute_result"
    }
   ],
   "source": [
    "# Taux de la classification correcte \n",
    "metrics.accuracy_score(testYF, targetTestRF) "
   ]
  },
  {
   "cell_type": "code",
   "execution_count": null,
   "metadata": {},
   "outputs": [],
   "source": []
  }
 ],
 "metadata": {
  "kernelspec": {
   "display_name": "Python 3 (ipykernel)",
   "language": "python",
   "name": "python3"
  },
  "language_info": {
   "codemirror_mode": {
    "name": "ipython",
    "version": 3
   },
   "file_extension": ".py",
   "mimetype": "text/x-python",
   "name": "python",
   "nbconvert_exporter": "python",
   "pygments_lexer": "ipython3",
   "version": "3.9.7"
  }
 },
 "nbformat": 4,
 "nbformat_minor": 2
}
